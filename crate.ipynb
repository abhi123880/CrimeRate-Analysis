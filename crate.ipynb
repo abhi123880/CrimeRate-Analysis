{
  "nbformat": 4,
  "nbformat_minor": 0,
  "metadata": {
    "colab": {
      "provenance": [],
      "authorship_tag": "ABX9TyOOs8eRWbkrTnzyQYLg//rs",
      "include_colab_link": true
    },
    "kernelspec": {
      "name": "python3",
      "display_name": "Python 3"
    },
    "language_info": {
      "name": "python"
    }
  },
  "cells": [
    {
      "cell_type": "markdown",
      "metadata": {
        "id": "view-in-github",
        "colab_type": "text"
      },
      "source": [
        "<a href=\"https://colab.research.google.com/github/abhi123880/CrimeRate-Analysis/blob/main/crate.ipynb\" target=\"_parent\"><img src=\"https://colab.research.google.com/assets/colab-badge.svg\" alt=\"Open In Colab\"/></a>"
      ]
    },
    {
      "cell_type": "code",
      "source": [
        "import pandas as pd\n",
        "from sklearn.model_selection import train_test_split\n",
        "from sklearn.preprocessing import StandardScaler, LabelEncoder\n",
        "from sklearn.neighbors import KNeighborsClassifier\n",
        "from sklearn.metrics import classification_report, confusion_matrix, accuracy_score\n",
        "from google.colab import drive\n",
        "drive.mount('/content/drive')\n",
        "\n",
        "file_path = '/content/drive/MyDrive/crime_data_50yrs.csv'\n",
        "df = pd.read_csv(file_path)\n",
        "print(df.head())\n",
        "X = df.drop('Crime Type', axis=1)\n",
        "y = df['Crime Type']\n",
        "label_encoder = LabelEncoder()\n",
        "y = label_encoder.fit_transform(y)\n",
        "X_train, X_test, y_train, y_test = train_test_split(X, y, test_size=0.3, random_state=42)\n",
        "scaler = StandardScaler()\n",
        "X_train = scaler.fit_transform(X_train)\n",
        "X_test = scaler.transform(X_test)\n",
        "\n",
        "\n",
        "knn = KNeighborsClassifier(n_neighbors=5)\n",
        "knn.fit(X_train, y_train)\n",
        "y_pred = knn.predict(X_test)\n",
        "accuracy = accuracy_score(y_test, y_pred)\n",
        "print(f\"Accuracy: {accuracy:.2f}\")\n",
        "print(classification_report(y_test, y_pred))\n",
        "new_sample_data = []\n",
        "for column in X.columns:\n",
        "    value = float(input(f\"Enter value for '{column}': \"))\n",
        "    new_sample_data.append(value)\n",
        "\n",
        "new_sample_df = pd.DataFrame([new_sample_data], columns=X.columns)\n",
        "\n",
        "new_sample_scaled = scaler.transform(new_sample_df)\n",
        "predicted_class_index = knn.predict(new_sample_scaled)[0]\n",
        "\n",
        "predicted_crime_type = label_encoder.inverse_transform([predicted_class_index])[0]\n",
        "\n",
        "print(f\"\\nPredicted Crime Type for the new sample: {predicted_crime_type}\")"
      ],
      "metadata": {
        "colab": {
          "base_uri": "https://localhost:8080/"
        },
        "id": "79pNBWjrTzhh",
        "outputId": "1b663233-2a01-4a68-93ac-b40c68326d2b"
      },
      "execution_count": null,
      "outputs": [
        {
          "output_type": "stream",
          "name": "stdout",
          "text": [
            "Drive already mounted at /content/drive; to attempt to forcibly remount, call drive.mount(\"/content/drive\", force_remount=True).\n",
            "   Year    Crime Type  Population  Crime Rate\n",
            "0  1975         Theft      944649         409\n",
            "1  1975       Assault      523460         114\n",
            "2  1975         Fraud      326382         158\n",
            "3  1975      Burglary      631499         453\n",
            "4  1975  Drug-related      774958          99\n",
            "Accuracy: 0.12\n",
            "              precision    recall  f1-score   support\n",
            "\n",
            "           0       0.11      0.20      0.14        15\n",
            "           1       0.05      0.07      0.06        15\n",
            "           2       0.20      0.19      0.19        16\n",
            "           3       0.11      0.10      0.11        10\n",
            "           4       0.09      0.07      0.08        14\n",
            "           5       0.25      0.10      0.14        20\n",
            "\n",
            "    accuracy                           0.12        90\n",
            "   macro avg       0.14      0.12      0.12        90\n",
            "weighted avg       0.14      0.12      0.12        90\n",
            "\n",
            "Enter value for 'Year': 2020\n",
            "Enter value for 'Population': 892655\n",
            "Enter value for 'Crime Rate': 381\n",
            "\n",
            "Predicted Crime Type for the new sample: Homicide\n"
          ]
        }
      ]
    }
  ]
}